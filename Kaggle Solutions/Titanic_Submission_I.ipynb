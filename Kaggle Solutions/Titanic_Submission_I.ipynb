{
 "cells": [
  {
   "cell_type": "markdown",
   "metadata": {},
   "source": [
    "# [Titanic: Machine Learning from Disaster](https://www.kaggle.com/c/titanic)\n",
    "\n",
    "This is the legendary Titanic ML competition – the best, first challenge for you to dive into ML competitions and familiarize yourself with how the Kaggle platform works.\n",
    "\n",
    "The competition is simple: use machine learning to create a model that predicts which passengers survived the Titanic shipwreck.\n",
    "\n",
    "Read on or watch the video below to explore more details. Once you’re ready to start competing, click on the \"Join Competition button to create an account and gain access to the competition data. Then check out Alexis Cook’s Titanic Tutorial that walks you through step by step how to make your first submission!"
   ]
  },
  {
   "cell_type": "markdown",
   "metadata": {},
   "source": [
    "Used code and methods from the following article(s) to help me put together this notebook.\n",
    "\n",
    "Article 1:[Titanic Tutorial](https://www.kaggle.com/alexisbcook/titanic-tutorial)\n",
    "\n",
    "- Author - Alexis Cooke\n",
    "- Apr 1, 2020\n",
    "- Code: Within Article\n",
    "\n",
    "Article 2: [Bayesian Linear Regression in Python: Using Machine Learning to Predict Student Grades Part 1](https://towardsdatascience.com/bayesian-linear-regression-in-python-using-machine-learning-to-predict-student-grades-part-1-7d0ad817fca5)\n",
    "\n",
    "- Author - Will Koehrsen\n",
    "- Apr 20, 2018\n",
    "- Code: [Github - Bayesian Linear Regression](https://github.com/WillKoehrsen/DataAnalysis/blob/master/bayesian_lr/Bayesian%20Linear%20Regression%20Project.ipynb)"
   ]
  },
  {
   "cell_type": "code",
   "execution_count": 1,
   "metadata": {},
   "outputs": [],
   "source": [
    "#source - https://www.kaggle.com/alexisbcook/titanic-tutorial\n",
    "import pandas as pd\n",
    "import os\n",
    "import matplotlib.pyplot as plt\n",
    "import numpy as np\n",
    "from sklearn.model_selection import train_test_split\n",
    "from sklearn.ensemble import RandomForestClassifier\n",
    "from sklearn.naive_bayes import MultinomialNB"
   ]
  },
  {
   "cell_type": "code",
   "execution_count": 2,
   "metadata": {},
   "outputs": [],
   "source": [
    "os.chdir(r'D:\\python_code\\Practice\\Kaggle\\Titanic')"
   ]
  },
  {
   "cell_type": "code",
   "execution_count": 3,
   "metadata": {},
   "outputs": [],
   "source": [
    "df = pd.read_csv('train.csv')"
   ]
  },
  {
   "cell_type": "code",
   "execution_count": 4,
   "metadata": {},
   "outputs": [
    {
     "data": {
      "image/png": "[encoded data removed]",
      "text/plain": [
       "<Figure size 432x288 with 1 Axes>"
      ]
     },
     "metadata": {
      "needs_background": "light"
     },
     "output_type": "display_data"
    }
   ],
   "source": [
    "#df.plot.bar(y = df['Survived'])\n",
    "\n",
    "survival = df['Survived'].values\n",
    "survivors = np.count_nonzero(survival)\n",
    "fatalities = len(survival) - survivors\n",
    "\n",
    "plt.bar(height = [survivors,fatalities],x = ['Survivors','Fatalities'], color = ['Green','Red'])\n",
    "plt.title('Survivors of Titanic', fontsize = 16)\n",
    "plt.ylabel('Count', fontsize = 12);"
   ]
  },
  {
   "cell_type": "code",
   "execution_count": 5,
   "metadata": {},
   "outputs": [],
   "source": [
    "# Suvived == 1 and Died == 0\n",
    "# Survived is the target column\n",
    "\n",
    "#add in dummy variables\n",
    "#dummy variable for sex of the person\n",
    "dummy_variable_sex = []\n",
    "\n",
    "for i in df['Sex']:\n",
    "    if i == 'male':\n",
    "        dummy_variable_sex.append(0)\n",
    "    else:\n",
    "        dummy_variable_sex.append(1)\n",
    "\n",
    "df['Dummy Variable Sex'] = dummy_variable_sex\n",
    "\n",
    "#dummy variable where the passanger embarked from\n",
    "\n",
    "#fill n/a values with 0, just 2 n/a values in Embarked and one in Fare\n",
    "df['Embarked'] = df['Embarked'].fillna(0)\n",
    "df['Fare'] = df['Fare'].fillna(0)\n",
    "\n",
    "\n",
    "dummy_variable_embarked = []\n",
    "\n",
    "#besides the n/a's there are 3 unique embark points: S, C and Q\n",
    "\n",
    "for i in df['Embarked']:\n",
    "    if i == 'S':\n",
    "        dummy_variable_embarked.append(1)\n",
    "    if i == 'C':\n",
    "        dummy_variable_embarked.append(2)\n",
    "    if i == 'Q':\n",
    "        dummy_variable_embarked.append(3)\n",
    "    if i == 0:\n",
    "        dummy_variable_embarked.append(0)\n",
    "        \n",
    "df['Dummy Variable Embarked'] = dummy_variable_embarked\n"
   ]
  },
  {
   "cell_type": "markdown",
   "metadata": {},
   "source": [
    "# The 3 most significant variables will be used for the model: Sex, Pclass and Fare"
   ]
  },
  {
   "cell_type": "code",
   "execution_count": 6,
   "metadata": {},
   "outputs": [
    {
     "name": "stdout",
     "output_type": "stream",
     "text": [
      "Pclass                    -0.338481\n",
      "Age                       -0.077221\n",
      "SibSp                     -0.035322\n",
      "PassengerId               -0.005007\n",
      "Parch                      0.081629\n",
      "Dummy Variable Embarked    0.101849\n",
      "Fare                       0.257307\n",
      "Dummy Variable Sex         0.543351\n",
      "Survived                   1.000000\n",
      "Name: Survived, dtype: float64\n"
     ]
    }
   ],
   "source": [
    "print(df.corr()['Survived'].sort_values())\n",
    "\n",
    "#drop all features from DataFrame that won't be used in the model\n",
    "df = df.drop(columns = ['Age','SibSp','PassengerId','Parch','Dummy Variable Embarked',\n",
    "                  'Embarked','Name','Cabin','Ticket','Sex'])"
   ]
  },
  {
   "cell_type": "code",
   "execution_count": 7,
   "metadata": {},
   "outputs": [],
   "source": [
    "labels = df['Survived']\n",
    "\n",
    "df_modded = df.drop(columns = ['Survived'])\n",
    "\n",
    "X_train, X_test, y_train, y_test = train_test_split(df_modded, labels, test_size = 0.25)"
   ]
  },
  {
   "cell_type": "markdown",
   "metadata": {},
   "source": [
    "# First Model is a Random Forest Classifier which is used in the [Kaggle Tutorial](https://www.kaggle.com/alexisbcook/titanic-tutorial)"
   ]
  },
  {
   "cell_type": "code",
   "execution_count": 8,
   "metadata": {},
   "outputs": [],
   "source": [
    "model1 = RandomForestClassifier(n_estimators=100, max_depth=5)"
   ]
  },
  {
   "cell_type": "code",
   "execution_count": 9,
   "metadata": {},
   "outputs": [],
   "source": [
    "#Will test model by running it 100 times to find the average score\n",
    "\n",
    "test_list1 = []\n",
    "\n",
    "while len(test_list1) < 100:\n",
    "    model1.fit(X_train,y_train)\n",
    "    test_list1.append(model1.score(X_test, y_test))\n",
    "    model1.predict(X_test)"
   ]
  },
  {
   "cell_type": "markdown",
   "metadata": {},
   "source": [
    "# The next model I found returned decent predictions was the [Multinomial Naive Bayes](https://en.wikipedia.org/wiki/Naive_Bayes_classifier#Multinomial_na%C3%AFve_Bayes) which is used for Natual Language Processing"
   ]
  },
  {
   "cell_type": "code",
   "execution_count": 10,
   "metadata": {},
   "outputs": [],
   "source": [
    "model2 = MultinomialNB()"
   ]
  },
  {
   "cell_type": "code",
   "execution_count": 11,
   "metadata": {},
   "outputs": [],
   "source": [
    "test_list2 = []\n",
    "\n",
    "while len(test_list2) < 100:\n",
    "    X_train, X_test, y_train, y_test = train_test_split(df_modded, labels, test_size = 0.25)\n",
    "    model2.fit(X_train,y_train)\n",
    "    test_list2.append(model2.score(X_test, y_test))\n",
    "    model2.predict(X_test)"
   ]
  },
  {
   "cell_type": "code",
   "execution_count": 12,
   "metadata": {},
   "outputs": [
    {
     "name": "stdout",
     "output_type": "stream",
     "text": [
      "The average score for the Random Forest is: 0.8161883408071747\n",
      "The average score for the Naive Bayes is: 0.6889686098654709\n"
     ]
    }
   ],
   "source": [
    "#compare the results of each\n",
    "\n",
    "average_random_f_score = sum(test_list1)/len(test_list1)\n",
    "average_naive_b_score = sum(test_list2)/len(test_list2)\n",
    "\n",
    "print(f'The average score for the Random Forest is: {average_random_f_score}\\nThe average score for the Naive Bayes is: {average_naive_b_score}')"
   ]
  },
  {
   "cell_type": "markdown",
   "metadata": {},
   "source": [
    "# The Random Forest seems to yield a better prediction rate, so it will be used to predict the test data"
   ]
  },
  {
   "cell_type": "code",
   "execution_count": 13,
   "metadata": {},
   "outputs": [],
   "source": [
    "#same process for df_test\n",
    "\n",
    "df_test = pd.read_csv('test.csv')\n",
    "\n",
    "PassengerID = df_test['PassengerId'].values\n",
    "\n",
    "dummy_variable_sex = []\n",
    "\n",
    "for i in df_test['Sex']:\n",
    "    if i == 'male':\n",
    "        dummy_variable_sex.append(0)\n",
    "    else:\n",
    "        dummy_variable_sex.append(1)\n",
    "\n",
    "df_test['Dummy Variable Sex'] = dummy_variable_sex\n",
    "\n",
    "df_test = df_test.drop(columns = ['Age','SibSp','PassengerId','Parch',\n",
    "                  'Embarked','Name','Cabin','Ticket','Sex'])\n",
    "\n",
    "df_test['Fare'] = df_test['Fare'].fillna(0)"
   ]
  },
  {
   "cell_type": "code",
   "execution_count": 14,
   "metadata": {},
   "outputs": [],
   "source": [
    "X_TRAIN = df_modded\n",
    "X_TEST = df_test\n",
    "Y_TRAIN = labels\n",
    "\n",
    "model3 = RandomForestClassifier(n_estimators=100, max_depth=5, random_state=1)\n",
    "model3.fit(X_TRAIN, Y_TRAIN)\n",
    "predictions3 = model3.predict(X_TEST)"
   ]
  },
  {
   "cell_type": "code",
   "execution_count": 16,
   "metadata": {},
   "outputs": [],
   "source": [
    "output = pd.DataFrame({'PassengerId': PassengerID, 'Survived': predictions3})\n",
    "output.to_csv('my_submission.csv', index = False)"
   ]
  },
  {
   "cell_type": "markdown",
   "metadata": {},
   "source": [
    "![title](LeetCode-Kaggle-Solutions-and-More/Kaggle Solutions/img/titanic.png)"
   ]
  }
 ],
 "metadata": {
  "kernelspec": {
   "display_name": "Python 3",
   "language": "python",
   "name": "python3"
  },
  "language_info": {
   "codemirror_mode": {
    "name": "ipython",
    "version": 3
   },
   "file_extension": ".py",
   "mimetype": "text/x-python",
   "name": "python",
   "nbconvert_exporter": "python",
   "pygments_lexer": "ipython3",
   "version": "3.8.3"
  }
 },
 "nbformat": 4,
 "nbformat_minor": 2
}
