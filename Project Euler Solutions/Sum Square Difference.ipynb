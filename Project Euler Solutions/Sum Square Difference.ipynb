{
 "cells": [
  {
   "cell_type": "markdown",
   "metadata": {},
   "source": [
    "# Sum Square Difference\n",
    "\n",
    "Problem 6\n",
    "The sum of the squares of the first ten natural numbers is, 1^2 + 2^2 + ... + 10^2 = 385\n",
    "\n",
    "The square of the sum of the first ten natural numbers is, (1 + 2 + ... + 10)^2 = 3,025\n",
    "\n",
    "Hence the difference between the sum of the squares of the first ten natural numbers and the square of the sum is 3025 - 385 + 2640.\n",
    "\n",
    "Find the difference between the sum of the squares of the first one hundred natural numbers and the square of the sum."
   ]
  },
  {
   "cell_type": "code",
   "execution_count": 1,
   "metadata": {},
   "outputs": [
    {
     "name": "stdout",
     "output_type": "stream",
     "text": [
      "Sum of squares: 385\n",
      "Squared Sum: 3025\n",
      "\u001b[1mDifference: 2640\n"
     ]
    }
   ],
   "source": [
    "#example\n",
    "\n",
    "sum_squares = sum([x**2 for x in range(1,11)])\n",
    "squared_sum = sum([x for x in range(1,11)])**2\n",
    "\n",
    "difference = squared_sum - sum_squares\n",
    "\n",
    "print(f'Sum of squares: {sum_squares}\\nSquared Sum: {squared_sum}\\n\\033[1mDifference: {difference}')"
   ]
  },
  {
   "cell_type": "code",
   "execution_count": 2,
   "metadata": {},
   "outputs": [
    {
     "name": "stdout",
     "output_type": "stream",
     "text": [
      "Sum of squares: 338350\n",
      "Squared Sum: 25502500\n",
      "\u001b[1mDifference: 25164150\n"
     ]
    }
   ],
   "source": [
    "#solution\n",
    "\n",
    "sum_squares = sum([x**2 for x in range(1,101)])\n",
    "squared_sum = sum([x for x in range(1,101)])**2\n",
    "\n",
    "difference = squared_sum - sum_squares\n",
    "\n",
    "print(f'Sum of squares: {sum_squares}\\nSquared Sum: {squared_sum}\\n\\033[1mDifference: {difference}')"
   ]
  }
 ],
 "metadata": {
  "kernelspec": {
   "display_name": "Python 3",
   "language": "python",
   "name": "python3"
  },
  "language_info": {
   "codemirror_mode": {
    "name": "ipython",
    "version": 3
   },
   "file_extension": ".py",
   "mimetype": "text/x-python",
   "name": "python",
   "nbconvert_exporter": "python",
   "pygments_lexer": "ipython3",
   "version": "3.7.3"
  }
 },
 "nbformat": 4,
 "nbformat_minor": 2
}
