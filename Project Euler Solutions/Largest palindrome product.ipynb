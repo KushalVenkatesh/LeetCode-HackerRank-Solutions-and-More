{
 "cells": [
  {
   "cell_type": "markdown",
   "metadata": {},
   "source": [
    "# Largest palindrome product\n",
    "\n",
    "A palindromic number reads the same both ways. The largest palindrome made from the product of two 2-digit numbers is 9009 = 91 × 99.\n",
    "\n",
    "Find the largest palindrome made from the product of two 3-digit numbers."
   ]
  },
  {
   "cell_type": "code",
   "execution_count": 1,
   "metadata": {},
   "outputs": [],
   "source": [
    "import numpy as np"
   ]
  },
  {
   "cell_type": "code",
   "execution_count": 2,
   "metadata": {},
   "outputs": [
    {
     "name": "stdout",
     "output_type": "stream",
     "text": [
      "9009\n"
     ]
    }
   ],
   "source": [
    "#create function to identify palindrome\n",
    "def isPalindrome(x):\n",
    "        x = str(x)\n",
    "        if x == x[::-1]:\n",
    "            return True\n",
    "        else:\n",
    "            return False\n",
    "\n",
    "#create list containing double digit numers\n",
    "double_digits = [x for x in range(10,100)]\n",
    "paired_double_digits = [[x,y] for x in double_digits for y in double_digits]\n",
    "double_digit_palindrome = []\n",
    "\n",
    "#multiply the pairs and iterate through to find all the palindromes\n",
    "for i in paired_double_digits:\n",
    "    if isPalindrome(np.prod(i)) == True:\n",
    "        double_digit_palindrome.append(np.prod(i))\n",
    "        \n",
    "#from the list find the largest palindrome\n",
    "print(max(double_digit_palindrome))"
   ]
  },
  {
   "cell_type": "code",
   "execution_count": 3,
   "metadata": {},
   "outputs": [
    {
     "name": "stdout",
     "output_type": "stream",
     "text": [
      "906609\n"
     ]
    }
   ],
   "source": [
    "triple_digits = [x for x in range(100,1000)]\n",
    "paired_triple_digits = [[x,y] for x in triple_digits for y in triple_digits]\n",
    "triple_digit_palindrome = []\n",
    "\n",
    "#multiply the pairs and iterate through to find all the palindromes\n",
    "for i in paired_triple_digits:\n",
    "    if isPalindrome(np.prod(i)) == True:\n",
    "        triple_digit_palindrome.append(np.prod(i))\n",
    "        \n",
    "#from the list find the largest palindrome\n",
    "print(max(triple_digit_palindrome))"
   ]
  }
 ],
 "metadata": {
  "kernelspec": {
   "display_name": "Python 3",
   "language": "python",
   "name": "python3"
  },
  "language_info": {
   "codemirror_mode": {
    "name": "ipython",
    "version": 3
   },
   "file_extension": ".py",
   "mimetype": "text/x-python",
   "name": "python",
   "nbconvert_exporter": "python",
   "pygments_lexer": "ipython3",
   "version": "3.8.3"
  }
 },
 "nbformat": 4,
 "nbformat_minor": 2
}
