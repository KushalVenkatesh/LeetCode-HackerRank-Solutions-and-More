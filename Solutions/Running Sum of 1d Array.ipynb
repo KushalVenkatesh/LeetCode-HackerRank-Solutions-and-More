{
 "cells": [
  {
   "cell_type": "code",
   "execution_count": 5,
   "metadata": {},
   "outputs": [
    {
     "name": "stdout",
     "output_type": "stream",
     "text": [
      "[1, 3, 6, 10]\n",
      "[1, 2, 3, 4, 5]\n",
      "[3, 4, 6, 16, 17]\n"
     ]
    }
   ],
   "source": [
    "def runningSum(nums):\n",
    "        num = 0\n",
    "        num_list = []\n",
    "        for i in nums:\n",
    "            num = num + i\n",
    "            num_list.append(num)\n",
    "        return num_list\n",
    "\n",
    "    \n",
    "print(runningSum([1,2,3,4]))\n",
    "print(runningSum([1,1,1,1,1]))\n",
    "print(runningSum([3,1,2,10,1]))"
   ]
  }
 ],
 "metadata": {
  "kernelspec": {
   "display_name": "Python 3",
   "language": "python",
   "name": "python3"
  },
  "language_info": {
   "codemirror_mode": {
    "name": "ipython",
    "version": 3
   },
   "file_extension": ".py",
   "mimetype": "text/x-python",
   "name": "python",
   "nbconvert_exporter": "python",
   "pygments_lexer": "ipython3",
   "version": "3.7.3"
  }
 },
 "nbformat": 4,
 "nbformat_minor": 2
}
