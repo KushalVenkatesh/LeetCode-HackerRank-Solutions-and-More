{
 "cells": [
  {
   "cell_type": "markdown",
   "metadata": {},
   "source": [
    "# Kids With the Greatest Number of Candies\n",
    "\n",
    "Given the array candies and the integer extraCandies, where candies[i] represents the number of candies that the ith kid has.\n",
    "\n",
    "For each kid check if there is a way to distribute extraCandies among the kids such that he or she can have the greatest number of candies among them. Notice that multiple kids can have the greatest number of candies.\n",
    "\n",
    " \n",
    "\n",
    "**Example 1:**\n",
    "\n",
    "Input: candies = [2,3,5,1,3], extraCandies = 3\n",
    "\n",
    "Output: [true,true,true,false,true] \n",
    "\n",
    "Explanation: \n",
    "Kid 1 has 2 candies and if he or she receives all extra candies (3) will have 5 candies --- the greatest number of candies among the kids. \n",
    "Kid 2 has 3 candies and if he or she receives at least 2 extra candies will have the greatest number of candies among the kids. \n",
    "Kid 3 has 5 candies and this is already the greatest number of candies among the kids. \n",
    "Kid 4 has 1 candy and even if he or she receives all extra candies will only have 4 candies. \n",
    "Kid 5 has 3 candies and if he or she receives at least 2 extra candies will have the greatest number of candies among the kids. \n",
    "\n",
    "**Example 2:**\n",
    "\n",
    "Input: candies = [4,2,1,1,2], extraCandies = 1\n",
    "\n",
    "Output: [true,false,false,false,false] \n",
    "\n",
    "Explanation: There is only 1 extra candy, therefore only kid 1 will have the greatest number of candies among the kids regardless of who takes the extra candy.\n",
    "\n",
    "**Example 3:**\n",
    "\n",
    "Input: candies = [12,1,12], extraCandies = 10\n",
    "\n",
    "Output: [true,false,true]\n",
    " \n",
    "\n",
    "**Constraints:**\n",
    "\n",
    "2 <= candies.length <= 100\n",
    "\n",
    "1 <= candies[i] <= 100\n",
    "\n",
    "1 <= extraCandies <= 50"
   ]
  },
  {
   "cell_type": "code",
   "execution_count": 2,
   "metadata": {},
   "outputs": [
    {
     "name": "stdout",
     "output_type": "stream",
     "text": [
      "[True, True, True, False, True]\n",
      "[True, False, False, False, False]\n",
      "[True, False, True]\n"
     ]
    }
   ],
   "source": [
    "def kidsWithCandies(candies,extraCandies):\n",
    "        candy_bool = []\n",
    "        for candy in candies:\n",
    "            if (candy + extraCandies) >= max(candies):\n",
    "                candy_bool.append(True)\n",
    "            else:\n",
    "                candy_bool.append(False)\n",
    "        return candy_bool\n",
    "    \n",
    "    \n",
    "candies = [2,3,5,1,3]\n",
    "extraCandies = 3\n",
    "print(kidsWithCandies(candies,extraCandies))\n",
    "\n",
    "candies = [4,2,1,1,2]\n",
    "extraCandies = 1\n",
    "print(kidsWithCandies(candies,extraCandies))\n",
    "\n",
    "candies = [12,1,12]\n",
    "extraCandies = 10\n",
    "print(kidsWithCandies(candies,extraCandies))"
   ]
  }
 ],
 "metadata": {
  "kernelspec": {
   "display_name": "Python 3",
   "language": "python",
   "name": "python3"
  },
  "language_info": {
   "codemirror_mode": {
    "name": "ipython",
    "version": 3
   },
   "file_extension": ".py",
   "mimetype": "text/x-python",
   "name": "python",
   "nbconvert_exporter": "python",
   "pygments_lexer": "ipython3",
   "version": "3.7.3"
  }
 },
 "nbformat": 4,
 "nbformat_minor": 2
}
