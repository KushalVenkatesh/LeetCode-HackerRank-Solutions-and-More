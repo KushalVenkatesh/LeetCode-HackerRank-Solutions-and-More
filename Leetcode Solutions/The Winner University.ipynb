{
 "cells": [
  {
   "cell_type": "code",
   "execution_count": 1,
   "metadata": {},
   "outputs": [],
   "source": [
    "import pandas as pd"
   ]
  },
  {
   "cell_type": "code",
   "execution_count": null,
   "metadata": {},
   "outputs": [],
   "source": [
    "def find_winner(new_york: pd.DataFrame, california: pd.DataFrame) -> pd.DataFrame:\n",
    "    ny_score = len(new_york[new_york['score'] >= 90])\n",
    "    cali_score = len(california[california['score'] >= 90])\n",
    "\n",
    "    if ny_score > cali_score:\n",
    "        return pd.DataFrame({'winner':['New York University']})\n",
    "    elif cali_score > ny_score:\n",
    "        return pd.DataFrame({'winner':['California University']})\n",
    "    else:\n",
    "        return pd.DataFrame({'winner':['No Winner']})"
   ]
  }
 ],
 "metadata": {
  "kernelspec": {
   "display_name": "ds",
   "language": "python",
   "name": "python3"
  },
  "language_info": {
   "codemirror_mode": {
    "name": "ipython",
    "version": 3
   },
   "file_extension": ".py",
   "mimetype": "text/x-python",
   "name": "python",
   "nbconvert_exporter": "python",
   "pygments_lexer": "ipython3",
   "version": "3.11.2"
  }
 },
 "nbformat": 4,
 "nbformat_minor": 2
}
