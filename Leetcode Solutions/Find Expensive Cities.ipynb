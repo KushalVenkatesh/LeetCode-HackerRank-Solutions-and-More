{
 "cells": [
  {
   "cell_type": "code",
   "execution_count": 9,
   "metadata": {},
   "outputs": [],
   "source": [
    "import pandas as pd"
   ]
  },
  {
   "cell_type": "code",
   "execution_count": 35,
   "metadata": {},
   "outputs": [],
   "source": [
    "def find_expensive_cities(listings: pd.DataFrame) -> pd.DataFrame:\n",
    "    avg_price = listings['price'].mean()\n",
    "    city_avg = listings.groupby(['city']).mean()\n",
    "    return pd.DataFrame({'city':city_avg[city_avg['price'] > avg_price].sort_index().index.tolist()})"
   ]
  },
  {
   "cell_type": "code",
   "execution_count": 36,
   "metadata": {},
   "outputs": [
    {
     "data": {
      "text/html": [
       "<div>\n",
       "<style scoped>\n",
       "    .dataframe tbody tr th:only-of-type {\n",
       "        vertical-align: middle;\n",
       "    }\n",
       "\n",
       "    .dataframe tbody tr th {\n",
       "        vertical-align: top;\n",
       "    }\n",
       "\n",
       "    .dataframe thead th {\n",
       "        text-align: right;\n",
       "    }\n",
       "</style>\n",
       "<table border=\"1\" class=\"dataframe\">\n",
       "  <thead>\n",
       "    <tr style=\"text-align: right;\">\n",
       "      <th></th>\n",
       "      <th>city</th>\n",
       "    </tr>\n",
       "  </thead>\n",
       "  <tbody>\n",
       "    <tr>\n",
       "      <th>0</th>\n",
       "      <td>Chicago</td>\n",
       "    </tr>\n",
       "    <tr>\n",
       "      <th>1</th>\n",
       "      <td>LosAngeles</td>\n",
       "    </tr>\n",
       "  </tbody>\n",
       "</table>\n",
       "</div>"
      ],
      "text/plain": [
       "         city\n",
       "0     Chicago\n",
       "1  LosAngeles"
      ]
     },
     "execution_count": 36,
     "metadata": {},
     "output_type": "execute_result"
    }
   ],
   "source": [
    "listings = pd.DataFrame({'listing_id': [113, 136, 92, 60, 8, 79, 37, 53, 178, 51, 121],\n",
    " 'city': ['LosAngeles', 'SanFrancisco', 'Chicago', 'Chicago', 'Chicago', 'SanFrancisco', 'Chicago', 'LosAngeles', 'SanFrancisco', 'NewYork', 'NewYork'],\n",
    " 'price': [7560386, 2380268, 9833209, 5147582, 5274441, 8372065, 7939595, 4965123, 999207, 5951718, 2893760]}\n",
    ")\n",
    "\n",
    "find_expensive_cities(listings)"
   ]
  }
 ],
 "metadata": {
  "kernelspec": {
   "display_name": "datascience",
   "language": "python",
   "name": "datascience"
  },
  "language_info": {
   "codemirror_mode": {
    "name": "ipython",
    "version": 3
   },
   "file_extension": ".py",
   "mimetype": "text/x-python",
   "name": "python",
   "nbconvert_exporter": "python",
   "pygments_lexer": "ipython3",
   "version": "3.11.4"
  }
 },
 "nbformat": 4,
 "nbformat_minor": 2
}
