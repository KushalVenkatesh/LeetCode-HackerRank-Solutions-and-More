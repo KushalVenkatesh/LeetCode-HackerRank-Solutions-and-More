{
 "cells": [
  {
   "cell_type": "markdown",
   "metadata": {},
   "source": [
    "# Loops\n",
    "\n",
    "**Task**\n",
    "\n",
    "The provided code stub reads and integer, 3, from STDIN. For all non-negative integers i<n, print i^2.\n",
    "\n",
    "**Example**\n",
    "\n",
    "n = 3\n",
    "\n",
    "The list of non-negative integers that are less than n = 3 is [0,1,2]. Print the square of each number on a separate line.\n",
    "\n",
    "Print(0,1,4)"
   ]
  },
  {
   "cell_type": "code",
   "execution_count": 1,
   "metadata": {},
   "outputs": [
    {
     "name": "stdout",
     "output_type": "stream",
     "text": [
      "0\n",
      "1\n",
      "4\n"
     ]
    }
   ],
   "source": [
    "if __name__ == '__main__':\n",
    "    n = 3\n",
    "    for i in range(0,n):\n",
    "        print(i**2)"
   ]
  }
 ],
 "metadata": {
  "kernelspec": {
   "display_name": "Python 3",
   "language": "python",
   "name": "python3"
  },
  "language_info": {
   "codemirror_mode": {
    "name": "ipython",
    "version": 3
   },
   "file_extension": ".py",
   "mimetype": "text/x-python",
   "name": "python",
   "nbconvert_exporter": "python",
   "pygments_lexer": "ipython3",
   "version": "3.7.3"
  }
 },
 "nbformat": 4,
 "nbformat_minor": 2
}
