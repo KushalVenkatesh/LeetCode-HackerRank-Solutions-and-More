{
 "cells": [
  {
   "cell_type": "markdown",
   "metadata": {},
   "source": [
    "# Solve Me First\n",
    "\n",
    "Complete the function solveMeFirst to compute the sum of two integers.\n",
    "\n",
    "**Function prototype:**\n",
    "\n",
    "int solveMeFirst(int a, int b);\n",
    "\n",
    "where,\n",
    "\n",
    "a is the first integer input.\n",
    "b is the second integer input\n",
    "Return values\n",
    "\n",
    "sum of the above two integers\n",
    "\n",
    "**Sample Input**\n",
    "\n",
    "a = 2\n",
    "b = 3\n",
    "\n",
    "**Sample Output**\n",
    "\n",
    "5"
   ]
  },
  {
   "cell_type": "code",
   "execution_count": 1,
   "metadata": {},
   "outputs": [
    {
     "name": "stdout",
     "output_type": "stream",
     "text": [
      "5\n"
     ]
    }
   ],
   "source": [
    "def solveMeFirst(a,b):\n",
    "    return a + b\n",
    "\n",
    "\n",
    "num1 = 2\n",
    "num2 = 3\n",
    "res = solveMeFirst(num1,num2)\n",
    "print(res)"
   ]
  }
 ],
 "metadata": {
  "kernelspec": {
   "display_name": "Python 3",
   "language": "python",
   "name": "python3"
  },
  "language_info": {
   "codemirror_mode": {
    "name": "ipython",
    "version": 3
   },
   "file_extension": ".py",
   "mimetype": "text/x-python",
   "name": "python",
   "nbconvert_exporter": "python",
   "pygments_lexer": "ipython3",
   "version": "3.7.3"
  }
 },
 "nbformat": 4,
 "nbformat_minor": 2
}
