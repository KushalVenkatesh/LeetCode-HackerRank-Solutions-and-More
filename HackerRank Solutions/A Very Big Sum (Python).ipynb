{
 "cells": [
  {
   "cell_type": "markdown",
   "metadata": {},
   "source": [
    "# A Very Big Sum\n",
    "\n",
    "In this challenge, you are required to calculate and print the sum of the elements in an array, keeping in mind that some of those integers may be quite large.\n",
    "\n",
    "**Function Description**\n",
    "\n",
    "Complete the aVeryBigSum function in the editor below. It must return the sum of all array elements.\n",
    "\n",
    "aVeryBigSum has the following parameter(s):\n",
    "\n",
    "int ar[n]: an array of integers .\n",
    "\n",
    "**Return**\n",
    "\n",
    "int: the sum of all array elements\n",
    "\n",
    "**Input Format**\n",
    "\n",
    "The first line of the input consists of an integer n.\n",
    "\n",
    "The next line contains n space-separated integers contained in the array.\n",
    "\n",
    "**Output Format**\n",
    "\n",
    "Return the integer sum of the elements in the array.\n",
    "\n",
    "**Constraints**\n",
    "1 <= n <=10\n",
    "\n",
    "0<= ar[i] <= 10^10\n",
    "\n",
    "**Sample Input**\n",
    "\n",
    "5\n",
    "1000000001 1000000002 1000000003 1000000004 1000000005\n",
    "\n",
    "**Output**\n",
    "\n",
    "5000000015\n",
    "\n",
    "**Note:**\n",
    "\n",
    "The range of the 32-bit integer is -2^31 to 2^31 - 1 or [-2147483648,2147483647]."
   ]
  },
  {
   "cell_type": "code",
   "execution_count": 1,
   "metadata": {},
   "outputs": [
    {
     "name": "stdout",
     "output_type": "stream",
     "text": [
      "5000000015\n"
     ]
    }
   ],
   "source": [
    "def aVeryBigSum(ar):\n",
    "    return sum(ar)\n",
    "\n",
    "ar = [1000000001, 1000000002, 1000000003, 1000000004, 1000000005]\n",
    "print(aVeryBigSum(ar))"
   ]
  }
 ],
 "metadata": {
  "kernelspec": {
   "display_name": "Python 3",
   "language": "python",
   "name": "python3"
  },
  "language_info": {
   "codemirror_mode": {
    "name": "ipython",
    "version": 3
   },
   "file_extension": ".py",
   "mimetype": "text/x-python",
   "name": "python",
   "nbconvert_exporter": "python",
   "pygments_lexer": "ipython3",
   "version": "3.7.3"
  }
 },
 "nbformat": 4,
 "nbformat_minor": 2
}
